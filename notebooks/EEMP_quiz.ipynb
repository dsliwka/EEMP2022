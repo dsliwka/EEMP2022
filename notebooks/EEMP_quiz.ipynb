{
 "cells": [
  {
   "cell_type": "markdown",
   "metadata": {},
   "source": [
    "# EEMP - Python Quiz"
   ]
  },
  {
   "cell_type": "markdown",
   "metadata": {},
   "source": [
    "1. Import the following packages and alias them as we did before.\n",
    "\n",
    "    - *numpy, pandas, matplotlib, seaborn, statsmodels*"
   ]
  },
  {
   "cell_type": "code",
   "execution_count": null,
   "metadata": {},
   "outputs": [],
   "source": []
  },
  {
   "cell_type": "markdown",
   "metadata": {},
   "source": [
    "2. Read in the employee data set we were using before, saving as *employee_data*.\n",
    "    - Set the maximum number of columns to be displayed to 200 \n",
    "        - Hint: pd.set_option('display.max_columns', #cols)\n",
    "    - Show the first 20 rows of the dataset."
   ]
  },
  {
   "cell_type": "code",
   "execution_count": null,
   "metadata": {},
   "outputs": [],
   "source": []
  },
  {
   "cell_type": "markdown",
   "metadata": {},
   "source": [
    "3. Create a new data set consisting of only employees that work in the \"Research & Development\" department, saving it as *employee_data_RD*.\n",
    "    - Print the shape, i.e. number of rows and columns, of this new data set.\n",
    "    - Check that all observations of employees in this data set are indeed working in the R&D department.\n",
    "        - Hint: using the *value_counts()* method is one way to check this."
   ]
  },
  {
   "cell_type": "code",
   "execution_count": null,
   "metadata": {},
   "outputs": [],
   "source": []
  },
  {
   "cell_type": "markdown",
   "metadata": {},
   "source": [
    "4. Create a new variable *dummy_retained*, which indicates whether the employee is still with the employer.\n",
    "    - Hint: Attrition=='No'"
   ]
  },
  {
   "cell_type": "code",
   "execution_count": null,
   "metadata": {},
   "outputs": [],
   "source": []
  },
  {
   "cell_type": "markdown",
   "metadata": {},
   "source": [
    "5. Check the descriptive statistics of the *employee_data_RD* data set.\n",
    "    - What is the min, max, and mean monthly income of employees?\n",
    "    - What is the mean job satisfaction and what is its standard deviation?\n",
    "    - How many employees have left their employer?"
   ]
  },
  {
   "cell_type": "code",
   "execution_count": null,
   "metadata": {},
   "outputs": [],
   "source": []
  },
  {
   "cell_type": "markdown",
   "metadata": {},
   "source": [
    "4. Visualize using employee_data_RD:\n",
    "    - The distribution of job satisfaction\n",
    "    - The distribution of job satisfaction, separately for those who work overtime and those who do not\n",
    "        - Hint: *OverTime=='Yes'*\n",
    "    - The correlation between job satisfaction and monthly income (also including a regression line)"
   ]
  },
  {
   "cell_type": "code",
   "execution_count": null,
   "metadata": {
    "scrolled": true
   },
   "outputs": [],
   "source": []
  },
  {
   "cell_type": "markdown",
   "metadata": {},
   "source": [
    "5. Run a regression with your new variable *dummy_retained* as the response variable and your choice of potentially meaningful input variables (e.g. monthly income, overtime, job satisfaction etc.) to predict whether an employee will stay with her employer.\n",
    "    - Hint: Use *smf.logit()* as the response variable is discrete."
   ]
  },
  {
   "cell_type": "code",
   "execution_count": null,
   "metadata": {},
   "outputs": [],
   "source": []
  }
 ],
 "metadata": {
  "kernelspec": {
   "display_name": "Python 3",
   "language": "python",
   "name": "python3"
  },
  "language_info": {
   "codemirror_mode": {
    "name": "ipython",
    "version": 3
   },
   "file_extension": ".py",
   "mimetype": "text/x-python",
   "name": "python",
   "nbconvert_exporter": "python",
   "pygments_lexer": "ipython3",
   "version": "3.8.8"
  }
 },
 "nbformat": 4,
 "nbformat_minor": 2
}
